{
 "cells": [
  {
   "cell_type": "markdown",
   "metadata": {},
   "source": [
    "# boolean indexing\n",
    "suppose we have an array (names) and another array(data) and the names in the array corresponds to rows in array"
   ]
  },
  {
   "cell_type": "code",
   "execution_count": 2,
   "metadata": {},
   "outputs": [],
   "source": [
    "import numpy as np"
   ]
  },
  {
   "cell_type": "code",
   "execution_count": 2,
   "metadata": {},
   "outputs": [],
   "source": [
    "name = np.array(['barun','asna','apurbha','barun','maskey','asna','krishna'])"
   ]
  },
  {
   "cell_type": "code",
   "execution_count": 9,
   "metadata": {},
   "outputs": [
    {
     "data": {
      "text/plain": [
       "array([[-1.23744094, -1.45059127,  1.6026385 ,  0.54705223, -0.51258379],\n",
       "       [-1.1023418 , -0.48148849, -0.06021423,  0.21315337,  0.40443663],\n",
       "       [ 0.50144319,  1.09095739,  0.81722492, -1.27045827, -0.55204312],\n",
       "       [ 0.08456317, -0.93860286, -0.52728491,  0.61008722,  0.83036032],\n",
       "       [ 0.45781823, -0.38733633,  0.29056722, -1.80524955, -0.80476686],\n",
       "       [-1.58283226, -0.57237788,  2.76416878,  0.61601429,  0.88947968],\n",
       "       [-1.76334264, -0.06431913, -0.34906945,  1.42846873,  0.24441365]])"
      ]
     },
     "execution_count": 9,
     "metadata": {},
     "output_type": "execute_result"
    }
   ],
   "source": [
    "datas = np.random.randn(7,5) # generataes a random array of matrixes\n",
    "datas"
   ]
  },
  {
   "cell_type": "code",
   "execution_count": 11,
   "metadata": {},
   "outputs": [
    {
     "data": {
      "text/plain": [
       "array([[-1.23744094, -1.45059127,  1.6026385 ,  0.54705223, -0.51258379],\n",
       "       [ 0.08456317, -0.93860286, -0.52728491,  0.61008722,  0.83036032]])"
      ]
     },
     "execution_count": 11,
     "metadata": {},
     "output_type": "execute_result"
    }
   ],
   "source": [
    "datas[name == 'barun']"
   ]
  },
  {
   "cell_type": "code",
   "execution_count": 12,
   "metadata": {},
   "outputs": [
    {
     "data": {
      "text/plain": [
       "array([ True, False, False,  True, False, False, False])"
      ]
     },
     "execution_count": 12,
     "metadata": {},
     "output_type": "execute_result"
    }
   ],
   "source": [
    "name == 'barun' # returns an array of boolean\n",
    "# these operations are vectorized..that is all of them are performed at a time ..no need of looping"
   ]
  },
  {
   "cell_type": "code",
   "execution_count": 14,
   "metadata": {},
   "outputs": [
    {
     "data": {
      "text/plain": [
       "array([[-1.1023418 , -0.48148849, -0.06021423,  0.21315337,  0.40443663],\n",
       "       [ 0.50144319,  1.09095739,  0.81722492, -1.27045827, -0.55204312],\n",
       "       [ 0.45781823, -0.38733633,  0.29056722, -1.80524955, -0.80476686],\n",
       "       [-1.58283226, -0.57237788,  2.76416878,  0.61601429,  0.88947968],\n",
       "       [-1.76334264, -0.06431913, -0.34906945,  1.42846873,  0.24441365]])"
      ]
     },
     "execution_count": 14,
     "metadata": {},
     "output_type": "execute_result"
    }
   ],
   "source": [
    "datas[~(name == 'barun')] #shows rows other than barun"
   ]
  },
  {
   "cell_type": "raw",
   "metadata": {},
   "source": [
    "trying to make all the non negatives into zero"
   ]
  },
  {
   "cell_type": "code",
   "execution_count": 19,
   "metadata": {},
   "outputs": [
    {
     "data": {
      "text/plain": [
       "array([[ 1.12944311, -0.07675491,  0.12208455, -1.92123162, -1.49900115,\n",
       "        -0.23979171],\n",
       "       [ 0.5134553 ,  0.07389547, -0.91901629, -0.2333578 ,  0.13283125,\n",
       "        -0.47076753],\n",
       "       [ 0.41772439,  1.13577823,  0.51248843,  0.81848623,  0.2293334 ,\n",
       "        -0.00821799],\n",
       "       [ 0.95428237, -1.52967588,  1.24004056,  1.06708445,  0.51722588,\n",
       "        -0.83008241],\n",
       "       [-0.5182377 , -0.54507827, -0.96093743, -0.3296642 ,  0.27833315,\n",
       "        -0.59402986],\n",
       "       [ 0.48410882,  0.39954669,  0.17325186, -0.98075552,  1.50385568,\n",
       "        -0.75805311]])"
      ]
     },
     "execution_count": 19,
     "metadata": {},
     "output_type": "execute_result"
    }
   ],
   "source": [
    "data = np.random.randn(6,6)\n",
    "newData = data.copy()\n",
    "\n",
    "data"
   ]
  },
  {
   "cell_type": "code",
   "execution_count": 23,
   "metadata": {},
   "outputs": [
    {
     "data": {
      "text/plain": [
       "array([[1.12944311, 0.        , 0.12208455, 0.        , 0.        ,\n",
       "        0.        ],\n",
       "       [0.5134553 , 0.07389547, 0.        , 0.        , 0.13283125,\n",
       "        0.        ],\n",
       "       [0.41772439, 1.13577823, 0.51248843, 0.81848623, 0.2293334 ,\n",
       "        0.        ],\n",
       "       [0.95428237, 0.        , 1.24004056, 1.06708445, 0.51722588,\n",
       "        0.        ],\n",
       "       [0.        , 0.        , 0.        , 0.        , 0.27833315,\n",
       "        0.        ],\n",
       "       [0.48410882, 0.39954669, 0.17325186, 0.        , 1.50385568,\n",
       "        0.        ]])"
      ]
     },
     "execution_count": 23,
     "metadata": {},
     "output_type": "execute_result"
    }
   ],
   "source": [
    "data [data < 0] = 0\n",
    "data"
   ]
  },
  {
   "cell_type": "markdown",
   "metadata": {},
   "source": [
    "#fancy Indexing"
   ]
  },
  {
   "cell_type": "code",
   "execution_count": 32,
   "metadata": {},
   "outputs": [
    {
     "data": {
      "text/plain": [
       "array([[0., 0., 0.],\n",
       "       [1., 1., 1.],\n",
       "       [2., 2., 2.],\n",
       "       [3., 3., 3.],\n",
       "       [4., 4., 4.],\n",
       "       [5., 5., 5.],\n",
       "       [6., 6., 6.],\n",
       "       [7., 7., 7.]])"
      ]
     },
     "execution_count": 32,
     "metadata": {},
     "output_type": "execute_result"
    }
   ],
   "source": [
    "fancyData = np.empty((8,3))\n",
    "for x in range(8):\n",
    "    fancyData [x] = x\n",
    "fancyData"
   ]
  },
  {
   "cell_type": "markdown",
   "metadata": {},
   "source": [
    "we can easilt select multiple rows using list of indexes....#fancy "
   ]
  },
  {
   "cell_type": "code",
   "execution_count": 33,
   "metadata": {},
   "outputs": [
    {
     "data": {
      "text/plain": [
       "array([[1., 1., 1.],\n",
       "       [2., 2., 2.],\n",
       "       [3., 3., 3.]])"
      ]
     },
     "execution_count": 33,
     "metadata": {},
     "output_type": "execute_result"
    }
   ],
   "source": [
    "fancyData[[1,2,3]]"
   ]
  },
  {
   "cell_type": "markdown",
   "metadata": {},
   "source": [
    "now a werid phenomenon"
   ]
  },
  {
   "cell_type": "code",
   "execution_count": 38,
   "metadata": {},
   "outputs": [
    {
     "data": {
      "text/plain": [
       "array([1., 5., 3.])"
      ]
     },
     "execution_count": 38,
     "metadata": {},
     "output_type": "execute_result"
    }
   ],
   "source": [
    "fancyData[[1,5,3],[2,0,1]]"
   ]
  },
  {
   "cell_type": "markdown",
   "metadata": {},
   "source": [
    "(here we got the result of (1,2),(5,2),(3,2))"
   ]
  },
  {
   "cell_type": "markdown",
   "metadata": {},
   "source": [
    "this is bit unsual because we wanted to print row 1 in order of 3,1,2\n",
    "lets do that"
   ]
  },
  {
   "cell_type": "code",
   "execution_count": 39,
   "metadata": {},
   "outputs": [
    {
     "data": {
      "text/plain": [
       "array([[ 0,  1,  2,  3],\n",
       "       [ 4,  5,  6,  7],\n",
       "       [ 8,  9, 10, 11],\n",
       "       [12, 13, 14, 15],\n",
       "       [16, 17, 18, 19],\n",
       "       [20, 21, 22, 23],\n",
       "       [24, 25, 26, 27],\n",
       "       [28, 29, 30, 31]])"
      ]
     },
     "execution_count": 39,
     "metadata": {},
     "output_type": "execute_result"
    }
   ],
   "source": [
    "newFancyData = np.arange(32).reshape(8,4) # here we used reshape to reshape a ndarray into new narray of different dimensions\n",
    "newFancyData"
   ]
  },
  {
   "cell_type": "code",
   "execution_count": 40,
   "metadata": {},
   "outputs": [
    {
     "data": {
      "text/plain": [
       "array([ 6, 20, 13])"
      ]
     },
     "execution_count": 40,
     "metadata": {},
     "output_type": "execute_result"
    }
   ],
   "source": [
    "newFancyData[[1,5,3],[2,0,1]] # same problem as previous"
   ]
  },
  {
   "cell_type": "code",
   "execution_count": 44,
   "metadata": {},
   "outputs": [
    {
     "data": {
      "text/plain": [
       "array([[ 7,  6,  4,  5],\n",
       "       [23, 22, 20, 21],\n",
       "       [15, 14, 12, 13],\n",
       "       [11, 10,  8,  9]])"
      ]
     },
     "execution_count": 44,
     "metadata": {},
     "output_type": "execute_result"
    }
   ],
   "source": [
    "newFancyData[[1,5,3,2]][:,[3,2,0,1]]"
   ]
  },
  {
   "cell_type": "markdown",
   "metadata": {},
   "source": [
    "another way of doing it is: using np.ix_() method"
   ]
  },
  {
   "cell_type": "code",
   "execution_count": 45,
   "metadata": {},
   "outputs": [
    {
     "data": {
      "text/plain": [
       "array([[ 7,  6,  4,  5],\n",
       "       [23, 22, 20, 21],\n",
       "       [15, 14, 12, 13],\n",
       "       [11, 10,  8,  9]])"
      ]
     },
     "execution_count": 45,
     "metadata": {},
     "output_type": "execute_result"
    }
   ],
   "source": [
    "newFancyData[np.ix_([1,5,3,2],[3,2,0,1])]"
   ]
  },
  {
   "cell_type": "markdown",
   "metadata": {},
   "source": [
    "#transposing a matrix"
   ]
  },
  {
   "cell_type": "code",
   "execution_count": 6,
   "metadata": {},
   "outputs": [
    {
     "data": {
      "text/plain": [
       "array([[0, 1],\n",
       "       [2, 3],\n",
       "       [4, 5],\n",
       "       [6, 7]])"
      ]
     },
     "execution_count": 6,
     "metadata": {},
     "output_type": "execute_result"
    }
   ],
   "source": [
    "import numpy as np\n",
    "newArray = np.arange(8).reshape(4,2)\n",
    "newArray"
   ]
  },
  {
   "cell_type": "code",
   "execution_count": 9,
   "metadata": {},
   "outputs": [
    {
     "data": {
      "text/plain": [
       "array([[0, 2, 4, 6],\n",
       "       [1, 3, 5, 7]])"
      ]
     },
     "execution_count": 9,
     "metadata": {},
     "output_type": "execute_result"
    }
   ],
   "source": [
    "newArray.transpose() "
   ]
  },
  {
   "cell_type": "code",
   "execution_count": 10,
   "metadata": {},
   "outputs": [
    {
     "data": {
      "text/plain": [
       "array([[0, 2, 4, 6],\n",
       "       [1, 3, 5, 7]])"
      ]
     },
     "execution_count": 10,
     "metadata": {},
     "output_type": "execute_result"
    }
   ],
   "source": [
    "newArray.T"
   ]
  },
  {
   "cell_type": "code",
   "execution_count": null,
   "metadata": {},
   "outputs": [],
   "source": []
  }
 ],
 "metadata": {
  "kernelspec": {
   "display_name": "Python 3",
   "language": "python",
   "name": "python3"
  },
  "language_info": {
   "codemirror_mode": {
    "name": "ipython",
    "version": 3
   },
   "file_extension": ".py",
   "mimetype": "text/x-python",
   "name": "python",
   "nbconvert_exporter": "python",
   "pygments_lexer": "ipython3",
   "version": "3.7.4"
  }
 },
 "nbformat": 4,
 "nbformat_minor": 2
}
