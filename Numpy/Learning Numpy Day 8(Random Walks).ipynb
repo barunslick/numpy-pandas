{
 "cells": [
  {
   "cell_type": "markdown",
   "metadata": {},
   "source": [
    "# Simultaing the power of ndarray with Random walks"
   ]
  },
  {
   "cell_type": "markdown",
   "metadata": {},
   "source": [
    "The pure python approach"
   ]
  },
  {
   "cell_type": "code",
   "execution_count": 38,
   "metadata": {},
   "outputs": [
    {
     "name": "stdout",
     "output_type": "stream",
     "text": [
      "--- 0.12574172019958496 seconds ---\n"
     ]
    }
   ],
   "source": [
    "import time\n",
    "start_time = time.time()\n",
    "import random\n",
    "steps = 100000\n",
    "position = 0\n",
    "draws = [position]\n",
    "walk=[0]\n",
    "for _ in range(steps):\n",
    "    step = 1 if random.randint(0,1) else -1\n",
    "    position += step\n",
    "    walk.append(position)\n",
    "    draws.append(step)\n",
    "#print(walk)\n",
    "print(\"--- %s seconds ---\" % (time.time() - start_time))"
   ]
  },
  {
   "cell_type": "markdown",
   "metadata": {},
   "source": [
    "Here we can do these with ndarrays as the draw are just random and doesnt depend on previous values"
   ]
  },
  {
   "cell_type": "code",
   "execution_count": 37,
   "metadata": {},
   "outputs": [
    {
     "name": "stdout",
     "output_type": "stream",
     "text": [
      "[ -1   0   1 ... 634 633 632]\n",
      "--- 0.01578497886657715 seconds ---\n"
     ]
    }
   ],
   "source": [
    "import time\n",
    "start_time = time.time()\n",
    "import numpy as np\n",
    "draw = np.random.randint(0,2,size = 1000000)\n",
    "steps = np.where(draw > 0 , 1, -1)\n",
    "print(steps.cumsum())\n",
    "print(\"--- %s seconds ---\" % (time.time() - start_time))"
   ]
  },
  {
   "cell_type": "markdown",
   "metadata": {},
   "source": [
    "here we used numpy as an better alternative to problem of random walk..as the size increases...numpy does a better job at performing operation"
   ]
  },
  {
   "cell_type": "markdown",
   "metadata": {},
   "source": [
    "W can also simulate many random walks at once with simple modifications"
   ]
  },
  {
   "cell_type": "code",
   "execution_count": 40,
   "metadata": {},
   "outputs": [
    {
     "name": "stdout",
     "output_type": "stream",
     "text": [
      "[[-1 -1  1 ...  1  1 -1]\n",
      " [ 1  1 -1 ... -1 -1 -1]\n",
      " [ 1 -1  1 ...  1  1  1]\n",
      " ...\n",
      " [ 1 -1 -1 ...  1  1  1]\n",
      " [ 1  1  1 ... -1  1  1]\n",
      " [-1 -1 -1 ... -1  1 -1]]\n",
      "[[ -1  -2  -1 ... -18 -17 -18]\n",
      " [  1   2   1 ... -18 -19 -20]\n",
      " [  1   0   1 ...  20  21  22]\n",
      " ...\n",
      " [  1   0  -1 ...  -4  -3  -2]\n",
      " [  1   2   3 ...  26  27  28]\n",
      " [ -1  -2  -3 ...   4   5   4]]\n"
     ]
    }
   ],
   "source": [
    "draw = np.random.randint(0,2,size =(100,500))\n",
    "steps = np.where(draw > 0 , 1, -1)\n",
    "print(steps)\n",
    "print(steps.cumsum(1))"
   ]
  },
  {
   "cell_type": "code",
   "execution_count": null,
   "metadata": {},
   "outputs": [],
   "source": []
  }
 ],
 "metadata": {
  "kernelspec": {
   "display_name": "Python 3",
   "language": "python",
   "name": "python3"
  },
  "language_info": {
   "codemirror_mode": {
    "name": "ipython",
    "version": 3
   },
   "file_extension": ".py",
   "mimetype": "text/x-python",
   "name": "python",
   "nbconvert_exporter": "python",
   "pygments_lexer": "ipython3",
   "version": "3.7.4"
  }
 },
 "nbformat": 4,
 "nbformat_minor": 2
}
