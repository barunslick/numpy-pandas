{
 "cells": [
  {
   "cell_type": "code",
   "execution_count": 11,
   "metadata": {},
   "outputs": [],
   "source": [
    "import numpy as np\n",
    "test1 = [1,2,3,4,5]\n",
    "test2 = [6,7,8,9,10]"
   ]
  },
  {
   "cell_type": "code",
   "execution_count": 12,
   "metadata": {},
   "outputs": [],
   "source": [
    "x , y = np.meshgrid(test1,test2)"
   ]
  },
  {
   "cell_type": "code",
   "execution_count": 13,
   "metadata": {},
   "outputs": [
    {
     "name": "stdout",
     "output_type": "stream",
     "text": [
      "[[ 6.08276253  6.32455532  6.70820393  7.21110255  7.81024968]\n",
      " [ 7.07106781  7.28010989  7.61577311  8.06225775  8.60232527]\n",
      " [ 8.06225775  8.24621125  8.54400375  8.94427191  9.43398113]\n",
      " [ 9.05538514  9.21954446  9.48683298  9.8488578  10.29563014]\n",
      " [10.04987562 10.19803903 10.44030651 10.77032961 11.18033989]]\n"
     ]
    }
   ],
   "source": [
    "print(np.sqrt(x*x+y*y)) # sqrt fins square root of final x^2+y^2..becaues its a matrix"
   ]
  },
  {
   "cell_type": "markdown",
   "metadata": {},
   "source": [
    "The numpy.where function is a vectorized version of the ternary expression x if condi\n",
    "tion else y."
   ]
  },
  {
   "cell_type": "code",
   "execution_count": 14,
   "metadata": {},
   "outputs": [],
   "source": [
    "test1 = [1,2,3,4,5]\n",
    "test2 = [6,7,8,9,10]\n",
    "mask = [True,False,True,True,False]"
   ]
  },
  {
   "cell_type": "markdown",
   "metadata": {},
   "source": [
    "Suppose we wanted to take a value from xarr whenever the corresponding value in\n",
    "cond is True otherwise take the value from yarr.\n",
    "The normal way of doing it with python would be very tedious"
   ]
  },
  {
   "cell_type": "code",
   "execution_count": 15,
   "metadata": {},
   "outputs": [
    {
     "name": "stdout",
     "output_type": "stream",
     "text": [
      "[ 1  7  3  4 10]\n"
     ]
    }
   ],
   "source": [
    "print(np.where(mask,test1,test2))"
   ]
  },
  {
   "cell_type": "markdown",
   "metadata": {},
   "source": [
    "heree if maske if true test1 is selectedted else test2 is selected"
   ]
  },
  {
   "cell_type": "markdown",
   "metadata": {},
   "source": [
    "# what to do if you have two bolean masks"
   ]
  },
  {
   "cell_type": "markdown",
   "metadata": {},
   "source": [
    "we can nest np.where like nested loops"
   ]
  },
  {
   "cell_type": "code",
   "execution_count": 47,
   "metadata": {},
   "outputs": [],
   "source": [
    "test1 = [9,100,3,4,5]\n",
    "test2 = [6,7,8,9,10]\n",
    "test3 = [11,12,13,14,15]\n",
    "test4 = [16,17,18,19,20]\n",
    "mask1= [True,False,False,True,False]\n",
    "mask2= [True,True,False,True,True]"
   ]
  },
  {
   "cell_type": "code",
   "execution_count": 50,
   "metadata": {},
   "outputs": [
    {
     "data": {
      "text/plain": [
       "array([ 9, 12, 18,  4, 15])"
      ]
     },
     "execution_count": 50,
     "metadata": {},
     "output_type": "execute_result"
    }
   ],
   "source": [
    "np.where(np.array(mask2) * np.array(mask1), test1, np.where(mask1,test2,np.where(mask2,test3,test4)))"
   ]
  },
  {
   "cell_type": "markdown",
   "metadata": {},
   "source": [
    "#Mathematical statiscal methods\n"
   ]
  },
  {
   "cell_type": "code",
   "execution_count": 4,
   "metadata": {},
   "outputs": [
    {
     "data": {
      "text/plain": [
       "array([[-0.33674859,  0.61161897,  0.32043602,  0.96649245, -0.0069705 ,\n",
       "        -1.42529717],\n",
       "       [-0.64608334, -1.76908611, -0.15995829,  1.44286076,  1.02490809,\n",
       "        -0.22684274],\n",
       "       [-1.1263515 ,  0.3284206 , -1.06996846,  0.0663863 , -1.97949492,\n",
       "         0.07941843],\n",
       "       [-1.13972143, -0.36318848, -1.06057231, -0.49870733, -1.35261105,\n",
       "        -0.71023324],\n",
       "       [ 0.30897579, -0.65969413, -2.20876571,  0.24500225,  0.67683846,\n",
       "        -1.5790424 ]])"
      ]
     },
     "execution_count": 4,
     "metadata": {},
     "output_type": "execute_result"
    }
   ],
   "source": [
    "import numpy as np\n",
    "dummyArray = np.random.randn(5,6)\n",
    "dummyArray"
   ]
  },
  {
   "cell_type": "code",
   "execution_count": 5,
   "metadata": {},
   "outputs": [
    {
     "data": {
      "text/plain": [
       "-0.40826598660347385"
      ]
     },
     "execution_count": 5,
     "metadata": {},
     "output_type": "execute_result"
    }
   ],
   "source": [
    "np.mean(dummyArray)"
   ]
  },
  {
   "cell_type": "code",
   "execution_count": 11,
   "metadata": {},
   "outputs": [
    {
     "data": {
      "text/plain": [
       "array([ 0.12953118, -0.33420163, -3.70158956, -5.12503385, -3.21668574])"
      ]
     },
     "execution_count": 11,
     "metadata": {},
     "output_type": "execute_result"
    }
   ],
   "source": [
    "dummyArray.sum(axis = 1)"
   ]
  },
  {
   "cell_type": "code",
   "execution_count": 15,
   "metadata": {},
   "outputs": [
    {
     "data": {
      "text/plain": [
       "array([1, 3, 5, 7, 9])"
      ]
     },
     "execution_count": 15,
     "metadata": {},
     "output_type": "execute_result"
    }
   ],
   "source": [
    "a1 = np.arange(1,10,2)\n",
    "a1"
   ]
  },
  {
   "cell_type": "markdown",
   "metadata": {},
   "source": [
    "Syntax : numpy.cumsum(arr, axis=None, dtype=None, out=None)"
   ]
  },
  {
   "cell_type": "code",
   "execution_count": 14,
   "metadata": {},
   "outputs": [
    {
     "data": {
      "text/plain": [
       "array([ 1,  4,  9, 16, 25])"
      ]
     },
     "execution_count": 14,
     "metadata": {},
     "output_type": "execute_result"
    }
   ],
   "source": [
    "a1.cumsum() # 1,3+1,5+3+1"
   ]
  },
  {
   "cell_type": "markdown",
   "metadata": {},
   "source": [
    "we can also it on some axis if its multidimensional array...by default its fallttened array"
   ]
  },
  {
   "cell_type": "code",
   "execution_count": 17,
   "metadata": {},
   "outputs": [
    {
     "data": {
      "text/plain": [
       "array([[ 0,  1,  2,  3],\n",
       "       [ 4,  5,  6,  7],\n",
       "       [ 8,  9, 10, 11],\n",
       "       [12, 13, 14, 15]])"
      ]
     },
     "execution_count": 17,
     "metadata": {},
     "output_type": "execute_result"
    }
   ],
   "source": [
    "a1 = np.arange(16).reshape(4,4)\n",
    "a1"
   ]
  },
  {
   "cell_type": "code",
   "execution_count": 18,
   "metadata": {},
   "outputs": [
    {
     "data": {
      "text/plain": [
       "array([[ 0,  1,  2,  3],\n",
       "       [ 4,  6,  8, 10],\n",
       "       [12, 15, 18, 21],\n",
       "       [24, 28, 32, 36]])"
      ]
     },
     "execution_count": 18,
     "metadata": {},
     "output_type": "execute_result"
    }
   ],
   "source": [
    "a1. cumsum(0) # sums across y axis"
   ]
  },
  {
   "cell_type": "code",
   "execution_count": 19,
   "metadata": {},
   "outputs": [
    {
     "data": {
      "text/plain": [
       "array([[ 0,  1,  3,  6],\n",
       "       [ 4,  9, 15, 22],\n",
       "       [ 8, 17, 27, 38],\n",
       "       [12, 25, 39, 54]])"
      ]
     },
     "execution_count": 19,
     "metadata": {},
     "output_type": "execute_result"
    }
   ],
   "source": [
    "a1.cumsum(1) #sums across x axis"
   ]
  },
  {
   "cell_type": "markdown",
   "metadata": {},
   "source": [
    " numpy.cumprod(arr, axis=None, dtype=None, out=None)"
   ]
  },
  {
   "cell_type": "code",
   "execution_count": 21,
   "metadata": {},
   "outputs": [
    {
     "data": {
      "text/plain": [
       "array([[ 0,  1,  2,  3],\n",
       "       [ 4,  5,  6,  7],\n",
       "       [ 8,  9, 10, 11],\n",
       "       [12, 13, 14, 15]])"
      ]
     },
     "execution_count": 21,
     "metadata": {},
     "output_type": "execute_result"
    }
   ],
   "source": [
    "#cum product\n",
    "a1"
   ]
  },
  {
   "cell_type": "code",
   "execution_count": 23,
   "metadata": {},
   "outputs": [
    {
     "data": {
      "text/plain": [
       "array([[   0,    1,    2,    3],\n",
       "       [   0,    5,   12,   21],\n",
       "       [   0,   45,  120,  231],\n",
       "       [   0,  585, 1680, 3465]])"
      ]
     },
     "execution_count": 23,
     "metadata": {},
     "output_type": "execute_result"
    }
   ],
   "source": [
    "a1.cumprod(0)"
   ]
  },
  {
   "cell_type": "code",
   "execution_count": 24,
   "metadata": {},
   "outputs": [
    {
     "data": {
      "text/plain": [
       "array([[    0,     0,     0,     0],\n",
       "       [    4,    20,   120,   840],\n",
       "       [    8,    72,   720,  7920],\n",
       "       [   12,   156,  2184, 32760]])"
      ]
     },
     "execution_count": 24,
     "metadata": {},
     "output_type": "execute_result"
    }
   ],
   "source": [
    "a1.cumprod(1)"
   ]
  },
  {
   "cell_type": "code",
   "execution_count": null,
   "metadata": {},
   "outputs": [],
   "source": []
  }
 ],
 "metadata": {
  "kernelspec": {
   "display_name": "Python 3",
   "language": "python",
   "name": "python3"
  },
  "language_info": {
   "codemirror_mode": {
    "name": "ipython",
    "version": 3
   },
   "file_extension": ".py",
   "mimetype": "text/x-python",
   "name": "python",
   "nbconvert_exporter": "python",
   "pygments_lexer": "ipython3",
   "version": "3.7.4"
  }
 },
 "nbformat": 4,
 "nbformat_minor": 2
}
