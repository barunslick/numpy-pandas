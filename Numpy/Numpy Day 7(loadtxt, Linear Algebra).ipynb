{
 "cells": [
  {
   "cell_type": "code",
   "execution_count": 1,
   "metadata": {},
   "outputs": [],
   "source": [
    "import numpy as np"
   ]
  },
  {
   "cell_type": "markdown",
   "metadata": {},
   "source": [
    "we have a txt file with numbers like in array"
   ]
  },
  {
   "cell_type": "markdown",
   "metadata": {},
   "source": [
    "0.580052,0.186730,1.040717,1.134411\n",
    "0.194163,-0.636917,-0.938659,0.124094\n",
    "-0.126410,0.268607,-0.695724,0.047428\n",
    "-1.484413,0.004176,-0.744203,0.005487\n",
    "2.302869,0.200131,1.670238,-1.881090\n",
    "-0.193230,1.047233,0.482803,0.960334"
   ]
  },
  {
   "cell_type": "markdown",
   "metadata": {},
   "source": [
    "to convert this into a 2d ndarray, we use np.loadtxt"
   ]
  },
  {
   "cell_type": "code",
   "execution_count": 9,
   "metadata": {},
   "outputs": [
    {
     "data": {
      "text/plain": [
       "array([[ 0.580052,  0.18673 ,  1.040717,  1.134411],\n",
       "       [ 0.194163, -0.636917, -0.938659,  0.124094],\n",
       "       [-0.12641 ,  0.268607, -0.695724,  0.047428],\n",
       "       [-1.484413,  0.004176, -0.744203,  0.005487],\n",
       "       [ 2.302869,  0.200131,  1.670238, -1.88109 ],\n",
       "       [-0.19323 ,  1.047233,  0.482803,  0.960334]])"
      ]
     },
     "execution_count": 9,
     "metadata": {},
     "output_type": "execute_result"
    }
   ],
   "source": [
    "np.loadtxt('arrayList.txt',delimiter= ',')"
   ]
  },
  {
   "cell_type": "markdown",
   "metadata": {},
   "source": [
    "# Linear Algebra"
   ]
  },
  {
   "cell_type": "markdown",
   "metadata": {},
   "source": [
    "- The Dot product"
   ]
  },
  {
   "cell_type": "code",
   "execution_count": 12,
   "metadata": {},
   "outputs": [
    {
     "data": {
      "text/plain": [
       "array([[-1.62715469,  1.60496549],\n",
       "       [ 1.84259165, -0.95059142]])"
      ]
     },
     "execution_count": 12,
     "metadata": {},
     "output_type": "execute_result"
    }
   ],
   "source": [
    "array1 = np.random.randn(2,2)\n",
    "array1"
   ]
  },
  {
   "cell_type": "code",
   "execution_count": 13,
   "metadata": {},
   "outputs": [
    {
     "data": {
      "text/plain": [
       "array([[ 0.95838506, -1.13618291],\n",
       "       [ 0.56541581,  1.29948065]])"
      ]
     },
     "execution_count": 13,
     "metadata": {},
     "output_type": "execute_result"
    }
   ],
   "source": [
    "array2 = np.random.randn(2,2)\n",
    "array2"
   ]
  },
  {
   "cell_type": "code",
   "execution_count": 14,
   "metadata": {},
   "outputs": [
    {
     "data": {
      "text/plain": [
       "array([[-0.65196789,  3.93436695],\n",
       "       [ 1.22843289, -3.32879631]])"
      ]
     },
     "execution_count": 14,
     "metadata": {},
     "output_type": "execute_result"
    }
   ],
   "source": [
    "np.dot(array1,array2) # matrix multiplication"
   ]
  },
  {
   "cell_type": "markdown",
   "metadata": {},
   "source": [
    "- numpy.linalg has a standard set of matrix decompositions and things like inverse and\n",
    "determinant.\n",
    "Table 4-7. Commonly-used numpy.linalg functions\n",
    "Function Description\n",
    "- diag Return the diagonal (or off-diagonal) elements of a square matrix as a 1D array, or convert a 1D array into a square matrix with zeros on the off-diagonal-\n",
    "- dot Matrix multiplication\n",
    "- trace Compute the sum of the diagonal elements\n",
    "- det Compute the matrix determinant\n",
    "- eig Compute the eigenvalues and eigenvectors of a square matrix\n",
    "- inv Compute the inverse of a square matrix\n",
    "- pinv Compute the Moore-Penrose pseudo-inverse inverse of a square matrix\n",
    "- qr Compute the QR decomposition\n",
    "- svd Compute the singular value decomposition (SVD)\n",
    "- solve Solve the linear system Ax = b for x, where A is a square matrix\n",
    "- lstsq Compute the least-squares solution to y = Xb"
   ]
  },
  {
   "cell_type": "code",
   "execution_count": 21,
   "metadata": {},
   "outputs": [],
   "source": [
    "from numpy.linalg import *"
   ]
  },
  {
   "cell_type": "code",
   "execution_count": 22,
   "metadata": {},
   "outputs": [
    {
     "data": {
      "text/plain": [
       "array([[-0.10004654,  0.97296055, -1.16434837],\n",
       "       [-1.63541283, -1.77755024, -0.18952761],\n",
       "       [-0.15359963, -0.39659018,  0.62365439]])"
      ]
     },
     "execution_count": 22,
     "metadata": {},
     "output_type": "execute_result"
    }
   ],
   "source": [
    "dummyArray = np.random.randn(3,3)\n",
    "dummyArray"
   ]
  },
  {
   "cell_type": "code",
   "execution_count": 27,
   "metadata": {},
   "outputs": [
    {
     "data": {
      "text/plain": [
       "array([[-1.68665615, -0.20663477, -3.21174414],\n",
       "       [ 1.49473146, -0.34372823,  2.68617071],\n",
       "       [ 0.53511378, -0.2694734 ,  2.52060473]])"
      ]
     },
     "execution_count": 27,
     "metadata": {},
     "output_type": "execute_result"
    }
   ],
   "source": [
    "inv(dummyArray) # inverse of  ndArray"
   ]
  },
  {
   "cell_type": "code",
   "execution_count": 28,
   "metadata": {},
   "outputs": [
    {
     "data": {
      "text/plain": [
       "-1.2539423895702853"
      ]
     },
     "execution_count": 28,
     "metadata": {},
     "output_type": "execute_result"
    }
   ],
   "source": [
    "np.trace(dummyArray) # trace need np. before it"
   ]
  },
  {
   "cell_type": "code",
   "execution_count": null,
   "metadata": {},
   "outputs": [],
   "source": []
  }
 ],
 "metadata": {
  "kernelspec": {
   "display_name": "Python 3",
   "language": "python",
   "name": "python3"
  },
  "language_info": {
   "codemirror_mode": {
    "name": "ipython",
    "version": 3
   },
   "file_extension": ".py",
   "mimetype": "text/x-python",
   "name": "python",
   "nbconvert_exporter": "python",
   "pygments_lexer": "ipython3",
   "version": "3.7.4"
  }
 },
 "nbformat": 4,
 "nbformat_minor": 2
}
